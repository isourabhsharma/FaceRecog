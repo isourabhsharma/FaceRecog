{
 "cells": [
  {
   "cell_type": "code",
   "execution_count": 30,
   "id": "4ff89285",
   "metadata": {},
   "outputs": [],
   "source": [
    "def face_detect(img_dir):\n",
    "    img = cv2.imread(img_dir)\n",
    "    gimg = cv2.cvtColor(img,cv2.COLOR_BGR2GRAY)\n",
    "    FaceRecog = cv2.CascadeClassifier('face_recog_data.xml')\n",
    "    cor = FaceRecog.detectMultiScale(gimg,1.3,5)\n",
    "    try:\n",
    "        if cor.all():\n",
    "            for(x,y,w,h) in cor:\n",
    "                img = cv2.rectangle(img,(x,y),(x+w,y+h),(255,0,0),3)\n",
    "            return img\n",
    "    except AttributeError:\n",
    "        return None"
   ]
  },
  {
   "cell_type": "code",
   "execution_count": 35,
   "id": "f518fbfa",
   "metadata": {},
   "outputs": [
    {
     "data": {
      "text/plain": [
       "-1"
      ]
     },
     "execution_count": 35,
     "metadata": {},
     "output_type": "execute_result"
    }
   ],
   "source": [
    "import cv2\n",
    "cv2.imshow('X',face_detect('peoples.jpg'))\n",
    "cv2.waitKey()"
   ]
  },
  {
   "cell_type": "code",
   "execution_count": null,
   "id": "93a896c2",
   "metadata": {},
   "outputs": [],
   "source": []
  }
 ],
 "metadata": {
  "kernelspec": {
   "display_name": "Python 3 (ipykernel)",
   "language": "python",
   "name": "python3"
  },
  "language_info": {
   "codemirror_mode": {
    "name": "ipython",
    "version": 3
   },
   "file_extension": ".py",
   "mimetype": "text/x-python",
   "name": "python",
   "nbconvert_exporter": "python",
   "pygments_lexer": "ipython3",
   "version": "3.10.5"
  }
 },
 "nbformat": 4,
 "nbformat_minor": 5
}
